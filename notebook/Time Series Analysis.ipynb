{
 "cells": [
  {
   "cell_type": "code",
   "execution_count": 3,
   "id": "fe671785",
   "metadata": {},
   "outputs": [
    {
     "name": "stdout",
     "output_type": "stream",
     "text": [
      "Collecting matplotlib\n",
      "  Downloading matplotlib-3.10.6-cp311-cp311-macosx_11_0_arm64.whl.metadata (11 kB)\n",
      "Collecting seaborn\n",
      "  Using cached seaborn-0.13.2-py3-none-any.whl.metadata (5.4 kB)\n",
      "Requirement already satisfied: pandas in /opt/homebrew/anaconda3/envs/jlab/lib/python3.11/site-packages (2.1.4)\n",
      "Requirement already satisfied: numpy in /opt/homebrew/anaconda3/envs/jlab/lib/python3.11/site-packages (1.26.4)\n",
      "Requirement already satisfied: statsmodels in /opt/homebrew/anaconda3/envs/jlab/lib/python3.11/site-packages (0.14.5)\n",
      "Requirement already satisfied: pmdarima in /opt/homebrew/anaconda3/envs/jlab/lib/python3.11/site-packages (2.0.3)\n",
      "Requirement already satisfied: scikit-learn in /opt/homebrew/anaconda3/envs/jlab/lib/python3.11/site-packages (1.7.2)\n",
      "Collecting contourpy>=1.0.1 (from matplotlib)\n",
      "  Downloading contourpy-1.3.3-cp311-cp311-macosx_11_0_arm64.whl.metadata (5.5 kB)\n",
      "Collecting cycler>=0.10 (from matplotlib)\n",
      "  Using cached cycler-0.12.1-py3-none-any.whl.metadata (3.8 kB)\n",
      "Collecting fonttools>=4.22.0 (from matplotlib)\n",
      "  Downloading fonttools-4.59.2-cp311-cp311-macosx_10_9_universal2.whl.metadata (109 kB)\n",
      "Collecting kiwisolver>=1.3.1 (from matplotlib)\n",
      "  Downloading kiwisolver-1.4.9-cp311-cp311-macosx_11_0_arm64.whl.metadata (6.3 kB)\n",
      "Requirement already satisfied: packaging>=20.0 in /opt/homebrew/anaconda3/envs/jlab/lib/python3.11/site-packages (from matplotlib) (25.0)\n",
      "Collecting pillow>=8 (from matplotlib)\n",
      "  Downloading pillow-11.3.0-cp311-cp311-macosx_11_0_arm64.whl.metadata (9.0 kB)\n",
      "Collecting pyparsing>=2.3.1 (from matplotlib)\n",
      "  Downloading pyparsing-3.2.4-py3-none-any.whl.metadata (5.0 kB)\n",
      "Requirement already satisfied: python-dateutil>=2.7 in /opt/homebrew/anaconda3/envs/jlab/lib/python3.11/site-packages (from matplotlib) (2.9.0.post0)\n",
      "Requirement already satisfied: pytz>=2020.1 in /opt/homebrew/anaconda3/envs/jlab/lib/python3.11/site-packages (from pandas) (2025.2)\n",
      "Requirement already satisfied: tzdata>=2022.1 in /opt/homebrew/anaconda3/envs/jlab/lib/python3.11/site-packages (from pandas) (2025.2)\n",
      "Requirement already satisfied: scipy!=1.9.2,>=1.8 in /opt/homebrew/anaconda3/envs/jlab/lib/python3.11/site-packages (from statsmodels) (1.10.1)\n",
      "Requirement already satisfied: patsy>=0.5.6 in /opt/homebrew/anaconda3/envs/jlab/lib/python3.11/site-packages (from statsmodels) (1.0.1)\n",
      "Requirement already satisfied: joblib>=0.11 in /opt/homebrew/anaconda3/envs/jlab/lib/python3.11/site-packages (from pmdarima) (1.5.2)\n",
      "Requirement already satisfied: Cython!=0.29.18,!=0.29.31,>=0.29 in /opt/homebrew/anaconda3/envs/jlab/lib/python3.11/site-packages (from pmdarima) (0.29.37)\n",
      "Requirement already satisfied: urllib3 in /opt/homebrew/anaconda3/envs/jlab/lib/python3.11/site-packages (from pmdarima) (2.5.0)\n",
      "Requirement already satisfied: setuptools!=50.0.0,>=38.6.0 in /opt/homebrew/anaconda3/envs/jlab/lib/python3.11/site-packages (from pmdarima) (69.5.1)\n",
      "Requirement already satisfied: threadpoolctl>=3.1.0 in /opt/homebrew/anaconda3/envs/jlab/lib/python3.11/site-packages (from scikit-learn) (3.6.0)\n",
      "Requirement already satisfied: six>=1.5 in /opt/homebrew/anaconda3/envs/jlab/lib/python3.11/site-packages (from python-dateutil>=2.7->matplotlib) (1.17.0)\n",
      "Downloading matplotlib-3.10.6-cp311-cp311-macosx_11_0_arm64.whl (8.1 MB)\n",
      "\u001b[2K   \u001b[90m━━━━━━━━━━━━━━━━━━━━━━━━━━━━━━━━━━━━━━━━\u001b[0m \u001b[32m8.1/8.1 MB\u001b[0m \u001b[31m39.9 MB/s\u001b[0m  \u001b[33m0:00:00\u001b[0m\n",
      "\u001b[?25hUsing cached seaborn-0.13.2-py3-none-any.whl (294 kB)\n",
      "Downloading contourpy-1.3.3-cp311-cp311-macosx_11_0_arm64.whl (270 kB)\n",
      "Using cached cycler-0.12.1-py3-none-any.whl (8.3 kB)\n",
      "Downloading fonttools-4.59.2-cp311-cp311-macosx_10_9_universal2.whl (2.8 MB)\n",
      "\u001b[2K   \u001b[90m━━━━━━━━━━━━━━━━━━━━━━━━━━━━━━━━━━━━━━━━\u001b[0m \u001b[32m2.8/2.8 MB\u001b[0m \u001b[31m34.9 MB/s\u001b[0m  \u001b[33m0:00:00\u001b[0m\n",
      "\u001b[?25hDownloading kiwisolver-1.4.9-cp311-cp311-macosx_11_0_arm64.whl (65 kB)\n",
      "Downloading pillow-11.3.0-cp311-cp311-macosx_11_0_arm64.whl (4.7 MB)\n",
      "\u001b[2K   \u001b[90m━━━━━━━━━━━━━━━━━━━━━━━━━━━━━━━━━━━━━━━━\u001b[0m \u001b[32m4.7/4.7 MB\u001b[0m \u001b[31m45.6 MB/s\u001b[0m  \u001b[33m0:00:00\u001b[0m\n",
      "\u001b[?25hDownloading pyparsing-3.2.4-py3-none-any.whl (113 kB)\n",
      "Installing collected packages: pyparsing, pillow, kiwisolver, fonttools, cycler, contourpy, matplotlib, seaborn\n",
      "\u001b[2K   \u001b[90m━━━━━━━━━━━━━━━━━━━━━━━━━━━━━━━━━━━━━━━━\u001b[0m \u001b[32m8/8\u001b[0m [seaborn]m7/8\u001b[0m [seaborn]ib]\n",
      "\u001b[1A\u001b[2KSuccessfully installed contourpy-1.3.3 cycler-0.12.1 fonttools-4.59.2 kiwisolver-1.4.9 matplotlib-3.10.6 pillow-11.3.0 pyparsing-3.2.4 seaborn-0.13.2\n",
      "✅ Attempted to install all necessary packages in the current Jupyter environment.\n",
      "Please restart your kernel (Kernel -> Restart Kernel...) after this, and then try your imports again.\n"
     ]
    }
   ],
   "source": [
    "import sys\n",
    "\n",
    "# Install matplotlib and other core packages into the current Jupyter environment\n",
    "# We use {sys.executable} to ensure it installs into the correct Python path\n",
    "!{sys.executable} -m pip install matplotlib seaborn pandas numpy statsmodels pmdarima scikit-learn\n",
    "\n",
    "print(\"✅ Attempted to install all necessary packages in the current Jupyter environment.\")\n",
    "print(\"Please restart your kernel (Kernel -> Restart Kernel...) after this, and then try your imports again.\")\n",
    "\n"
   ]
  },
  {
   "cell_type": "code",
   "execution_count": 2,
   "id": "7d406f85",
   "metadata": {},
   "outputs": [
    {
     "name": "stdout",
     "output_type": "stream",
     "text": [
      "Python executable in notebook: /opt/homebrew/anaconda3/envs/jlab/bin/python\n",
      "Python version in notebook: 3.11.13 (main, Jun  5 2025, 08:21:08) [Clang 14.0.6 ]\n"
     ]
    }
   ],
   "source": [
    "import sys\n",
    "import platform\n",
    "print(f\"Python executable in notebook: {sys.executable}\")\n",
    "print(f\"Python version in notebook: {sys.version}\")"
   ]
  },
  {
   "cell_type": "code",
   "execution_count": 23,
   "id": "25259c66",
   "metadata": {},
   "outputs": [],
   "source": [
    "import pandas as pd\n",
    "import numpy as np\n",
    "import matplotlib.pyplot as plt\n",
    "import seaborn as sns\n",
    "import statsmodels.api as sm\n",
    "import statsmodels.tsa.api as tsa\n",
    "from statsmodels.tsa.stattools import adfuller\n",
    "from statsmodels.tsa.arima.model import ARIMA\n",
    "from statsmodels.stats.diagnostic import acorr_ljungbox\n"
   ]
  },
  {
   "cell_type": "markdown",
   "id": "7e57f20e",
   "metadata": {},
   "source": []
  },
  {
   "cell_type": "code",
   "execution_count": 10,
   "id": "6d6ac741",
   "metadata": {},
   "outputs": [
    {
     "data": {
      "text/plain": [
       "Index(['currency_rate', 'date', 'year', 'quarter', 'month', 'day', 'dow',\n",
       "       'weekend', 'currency_rate_change', 'denomination', 'RUB',\n",
       "       'GDP_per_capita', 'Brent_price', 'GDP_deflator', 'FD_investment',\n",
       "       'Inflation'],\n",
       "      dtype='object')"
      ]
     },
     "execution_count": 10,
     "metadata": {},
     "output_type": "execute_result"
    }
   ],
   "source": [
    "data = pd.read_csv(\"/Users/zlatavorobeva/Documents/GitHub/Ruble_Volatility_Prediction2/data/Full_ruble_data.csv\")\n",
    "data.columns"
   ]
  },
  {
   "cell_type": "markdown",
   "id": "8bd906da",
   "metadata": {},
   "source": [
    "### Checking stationarity"
   ]
  },
  {
   "cell_type": "code",
   "execution_count": 11,
   "id": "c9e3cf1a",
   "metadata": {},
   "outputs": [
    {
     "name": "stdout",
     "output_type": "stream",
     "text": [
      "ADF Statistic: -1.2938804992779436\n",
      "p-value: 0.6319673214926431\n",
      "Critical Values: {'1%': -3.431206441353405, '5%': -2.8619184832442954, '10%': -2.56697146213229}\n"
     ]
    }
   ],
   "source": [
    "result = adfuller(data[\"RUB\"])\n",
    "print(\"ADF Statistic:\", result[0])\n",
    "print(\"p-value:\", result[1])\n",
    "print(\"Critical Values:\", result[4])"
   ]
  },
  {
   "cell_type": "markdown",
   "id": "715d5854",
   "metadata": {},
   "source": [
    "Since the ADF statistic is higher than all critical values, and the p-value is well above 0.05, we fail to reject the null hypothesis of a unit root. This indicates that the RUB time series is non-stationary.\n",
    "To proceed with time series modeling, let's apply first-order differencing to induce stationarity."
   ]
  },
  {
   "cell_type": "code",
   "execution_count": 12,
   "id": "2eadd616",
   "metadata": {},
   "outputs": [
    {
     "data": {
      "text/html": [
       "<div>\n",
       "<style scoped>\n",
       "    .dataframe tbody tr th:only-of-type {\n",
       "        vertical-align: middle;\n",
       "    }\n",
       "\n",
       "    .dataframe tbody tr th {\n",
       "        vertical-align: top;\n",
       "    }\n",
       "\n",
       "    .dataframe thead th {\n",
       "        text-align: right;\n",
       "    }\n",
       "</style>\n",
       "<table border=\"1\" class=\"dataframe\">\n",
       "  <thead>\n",
       "    <tr style=\"text-align: right;\">\n",
       "      <th></th>\n",
       "      <th>RUB</th>\n",
       "      <th>RUB_diff</th>\n",
       "    </tr>\n",
       "  </thead>\n",
       "  <tbody>\n",
       "    <tr>\n",
       "      <th>0</th>\n",
       "      <td>0.12526</td>\n",
       "      <td>NaN</td>\n",
       "    </tr>\n",
       "    <tr>\n",
       "      <th>1</th>\n",
       "      <td>0.13480</td>\n",
       "      <td>0.00954</td>\n",
       "    </tr>\n",
       "    <tr>\n",
       "      <th>2</th>\n",
       "      <td>0.13050</td>\n",
       "      <td>-0.00430</td>\n",
       "    </tr>\n",
       "    <tr>\n",
       "      <th>3</th>\n",
       "      <td>0.13030</td>\n",
       "      <td>-0.00020</td>\n",
       "    </tr>\n",
       "    <tr>\n",
       "      <th>4</th>\n",
       "      <td>0.13020</td>\n",
       "      <td>-0.00010</td>\n",
       "    </tr>\n",
       "  </tbody>\n",
       "</table>\n",
       "</div>"
      ],
      "text/plain": [
       "       RUB  RUB_diff\n",
       "0  0.12526       NaN\n",
       "1  0.13480   0.00954\n",
       "2  0.13050  -0.00430\n",
       "3  0.13030  -0.00020\n",
       "4  0.13020  -0.00010"
      ]
     },
     "execution_count": 12,
     "metadata": {},
     "output_type": "execute_result"
    }
   ],
   "source": [
    "data[\"RUB_diff\"] = data[\"RUB\"].diff()\n",
    "data[[\"RUB\", \"RUB_diff\"]].head()"
   ]
  },
  {
   "cell_type": "code",
   "execution_count": 13,
   "id": "2550877d",
   "metadata": {},
   "outputs": [
    {
     "name": "stdout",
     "output_type": "stream",
     "text": [
      "ADF Statistic: -15.066128585548803\n",
      "p-value: 8.860286973543265e-28\n",
      "Critical Values: {'1%': -3.431206441353405, '5%': -2.8619184832442954, '10%': -2.56697146213229}\n"
     ]
    }
   ],
   "source": [
    "result = adfuller(data['RUB_diff'].dropna())\n",
    "print(f\"ADF Statistic: {result[0]}\")\n",
    "print(f\"p-value: {result[1]}\")\n",
    "print(\"Critical Values:\", result[4])"
   ]
  },
  {
   "cell_type": "markdown",
   "id": "1c1f6254",
   "metadata": {},
   "source": [
    "Now, since the ADF statistic is much lower than all critical values, and the p-value is effectively 0, we reject the null hypothesis of a unit root. This confirms that the first-differenced RUB series is stationary and suitable for time series modeling."
   ]
  },
  {
   "cell_type": "markdown",
   "id": "36753267",
   "metadata": {},
   "source": [
    "### ARIMA with 1, 1, 1 without train/test and CV - ARIMA Test"
   ]
  },
  {
   "cell_type": "code",
   "execution_count": 22,
   "id": "55baabb6",
   "metadata": {},
   "outputs": [
    {
     "name": "stdout",
     "output_type": "stream",
     "text": [
      "                               SARIMAX Results                                \n",
      "==============================================================================\n",
      "Dep. Variable:                    RUB   No. Observations:                 7670\n",
      "Model:                 ARIMA(1, 1, 1)   Log Likelihood               -6882.992\n",
      "Date:                Tue, 16 Sep 2025   AIC                          13771.985\n",
      "Time:                        12:11:43   BIC                          13792.820\n",
      "Sample:                             0   HQIC                         13779.131\n",
      "                               - 7670                                         \n",
      "Covariance Type:                  opg                                         \n",
      "==============================================================================\n",
      "                 coef    std err          z      P>|z|      [0.025      0.975]\n",
      "------------------------------------------------------------------------------\n",
      "ar.L1          0.6590      0.015     42.836      0.000       0.629       0.689\n",
      "ma.L1         -0.5769      0.017    -33.698      0.000      -0.610      -0.543\n",
      "sigma2         0.3524      0.001    318.998      0.000       0.350       0.355\n",
      "===================================================================================\n",
      "Ljung-Box (L1) (Q):                   1.77   Jarque-Bera (JB):           1648554.59\n",
      "Prob(Q):                              0.18   Prob(JB):                         0.00\n",
      "Heteroskedasticity (H):              17.81   Skew:                             1.60\n",
      "Prob(H) (two-sided):                  0.00   Kurtosis:                        74.76\n",
      "===================================================================================\n",
      "\n",
      "Warnings:\n",
      "[1] Covariance matrix calculated using the outer product of gradients (complex-step).\n"
     ]
    }
   ],
   "source": [
    "# Fit ARIMA with (p=1, d=1, q=1) as a starting point\n",
    "model_1 = ARIMA(data[\"RUB\"], order=(1, 1, 1))\n",
    "model_1_fit = model_1.fit()\n",
    "\n",
    "print(model_1_fit.summary())"
   ]
  },
  {
   "cell_type": "markdown",
   "id": "ae425da6",
   "metadata": {},
   "source": [
    "I fit an ARIMA(1,1,1) model to the RUB time series. First-order differencing (d=1) was necessary to achieve stationarity, as confirmed by the ADF test. The model suggests that both lagged values (AR term) and past forecast errors (MA term) significantly influence ruble fluctuations. Residual diagnostics indicate no significant autocorrelation, although signs of volatility clustering and heavy tails remain. \n",
    "\n",
    "To better capture these dynamics, future improvements could include GARCH models for volatility or ARIMAX models incorporating exogenous variables like Brent crude prices or inflation."
   ]
  },
  {
   "cell_type": "code",
   "execution_count": 15,
   "id": "ed895b9b",
   "metadata": {},
   "outputs": [
    {
     "name": "stderr",
     "output_type": "stream",
     "text": [
      "/opt/homebrew/anaconda3/envs/jlab/lib/python3.11/site-packages/sklearn/utils/deprecation.py:132: FutureWarning: 'force_all_finite' was renamed to 'ensure_all_finite' in 1.6 and will be removed in 1.8.\n",
      "  warnings.warn(\n",
      "/opt/homebrew/anaconda3/envs/jlab/lib/python3.11/site-packages/sklearn/utils/deprecation.py:132: FutureWarning: 'force_all_finite' was renamed to 'ensure_all_finite' in 1.6 and will be removed in 1.8.\n",
      "  warnings.warn(\n",
      "/opt/homebrew/anaconda3/envs/jlab/lib/python3.11/site-packages/sklearn/utils/deprecation.py:132: FutureWarning: 'force_all_finite' was renamed to 'ensure_all_finite' in 1.6 and will be removed in 1.8.\n",
      "  warnings.warn(\n",
      "/opt/homebrew/anaconda3/envs/jlab/lib/python3.11/site-packages/sklearn/utils/deprecation.py:132: FutureWarning: 'force_all_finite' was renamed to 'ensure_all_finite' in 1.6 and will be removed in 1.8.\n",
      "  warnings.warn(\n",
      "/opt/homebrew/anaconda3/envs/jlab/lib/python3.11/site-packages/sklearn/utils/deprecation.py:132: FutureWarning: 'force_all_finite' was renamed to 'ensure_all_finite' in 1.6 and will be removed in 1.8.\n",
      "  warnings.warn(\n",
      "/opt/homebrew/anaconda3/envs/jlab/lib/python3.11/site-packages/sklearn/utils/deprecation.py:132: FutureWarning: 'force_all_finite' was renamed to 'ensure_all_finite' in 1.6 and will be removed in 1.8.\n",
      "  warnings.warn(\n",
      "/opt/homebrew/anaconda3/envs/jlab/lib/python3.11/site-packages/sklearn/utils/deprecation.py:132: FutureWarning: 'force_all_finite' was renamed to 'ensure_all_finite' in 1.6 and will be removed in 1.8.\n",
      "  warnings.warn(\n",
      "/opt/homebrew/anaconda3/envs/jlab/lib/python3.11/site-packages/sklearn/utils/deprecation.py:132: FutureWarning: 'force_all_finite' was renamed to 'ensure_all_finite' in 1.6 and will be removed in 1.8.\n",
      "  warnings.warn(\n",
      "/opt/homebrew/anaconda3/envs/jlab/lib/python3.11/site-packages/sklearn/utils/deprecation.py:132: FutureWarning: 'force_all_finite' was renamed to 'ensure_all_finite' in 1.6 and will be removed in 1.8.\n",
      "  warnings.warn(\n"
     ]
    },
    {
     "name": "stdout",
     "output_type": "stream",
     "text": [
      "Performing stepwise search to minimize aic\n",
      " ARIMA(0,1,0)(0,0,0)[0] intercept   : AIC=13858.385, Time=0.43 sec\n"
     ]
    },
    {
     "name": "stderr",
     "output_type": "stream",
     "text": [
      "/opt/homebrew/anaconda3/envs/jlab/lib/python3.11/site-packages/sklearn/utils/deprecation.py:132: FutureWarning: 'force_all_finite' was renamed to 'ensure_all_finite' in 1.6 and will be removed in 1.8.\n",
      "  warnings.warn(\n"
     ]
    },
    {
     "name": "stdout",
     "output_type": "stream",
     "text": [
      " ARIMA(1,1,0)(0,0,0)[0] intercept   : AIC=13780.379, Time=0.46 sec\n"
     ]
    },
    {
     "name": "stderr",
     "output_type": "stream",
     "text": [
      "/opt/homebrew/anaconda3/envs/jlab/lib/python3.11/site-packages/sklearn/utils/deprecation.py:132: FutureWarning: 'force_all_finite' was renamed to 'ensure_all_finite' in 1.6 and will be removed in 1.8.\n",
      "  warnings.warn(\n"
     ]
    },
    {
     "name": "stdout",
     "output_type": "stream",
     "text": [
      " ARIMA(0,1,1)(0,0,0)[0] intercept   : AIC=13781.715, Time=0.55 sec\n",
      " ARIMA(0,1,0)(0,0,0)[0]             : AIC=13858.762, Time=0.08 sec\n"
     ]
    },
    {
     "name": "stderr",
     "output_type": "stream",
     "text": [
      "/opt/homebrew/anaconda3/envs/jlab/lib/python3.11/site-packages/sklearn/utils/deprecation.py:132: FutureWarning: 'force_all_finite' was renamed to 'ensure_all_finite' in 1.6 and will be removed in 1.8.\n",
      "  warnings.warn(\n",
      "/opt/homebrew/anaconda3/envs/jlab/lib/python3.11/site-packages/sklearn/utils/deprecation.py:132: FutureWarning: 'force_all_finite' was renamed to 'ensure_all_finite' in 1.6 and will be removed in 1.8.\n",
      "  warnings.warn(\n"
     ]
    },
    {
     "name": "stdout",
     "output_type": "stream",
     "text": [
      " ARIMA(2,1,0)(0,0,0)[0] intercept   : AIC=13781.784, Time=0.41 sec\n"
     ]
    },
    {
     "name": "stderr",
     "output_type": "stream",
     "text": [
      "/opt/homebrew/anaconda3/envs/jlab/lib/python3.11/site-packages/sklearn/utils/deprecation.py:132: FutureWarning: 'force_all_finite' was renamed to 'ensure_all_finite' in 1.6 and will be removed in 1.8.\n",
      "  warnings.warn(\n"
     ]
    },
    {
     "name": "stdout",
     "output_type": "stream",
     "text": [
      " ARIMA(1,1,1)(0,0,0)[0] intercept   : AIC=13772.414, Time=1.18 sec\n"
     ]
    },
    {
     "name": "stderr",
     "output_type": "stream",
     "text": [
      "/opt/homebrew/anaconda3/envs/jlab/lib/python3.11/site-packages/sklearn/utils/deprecation.py:132: FutureWarning: 'force_all_finite' was renamed to 'ensure_all_finite' in 1.6 and will be removed in 1.8.\n",
      "  warnings.warn(\n"
     ]
    },
    {
     "name": "stdout",
     "output_type": "stream",
     "text": [
      " ARIMA(2,1,1)(0,0,0)[0] intercept   : AIC=13767.177, Time=1.55 sec\n"
     ]
    },
    {
     "name": "stderr",
     "output_type": "stream",
     "text": [
      "/opt/homebrew/anaconda3/envs/jlab/lib/python3.11/site-packages/sklearn/utils/deprecation.py:132: FutureWarning: 'force_all_finite' was renamed to 'ensure_all_finite' in 1.6 and will be removed in 1.8.\n",
      "  warnings.warn(\n"
     ]
    },
    {
     "name": "stdout",
     "output_type": "stream",
     "text": [
      " ARIMA(3,1,1)(0,0,0)[0] intercept   : AIC=13755.703, Time=2.10 sec\n"
     ]
    },
    {
     "name": "stderr",
     "output_type": "stream",
     "text": [
      "/opt/homebrew/anaconda3/envs/jlab/lib/python3.11/site-packages/sklearn/utils/deprecation.py:132: FutureWarning: 'force_all_finite' was renamed to 'ensure_all_finite' in 1.6 and will be removed in 1.8.\n",
      "  warnings.warn(\n"
     ]
    },
    {
     "name": "stdout",
     "output_type": "stream",
     "text": [
      " ARIMA(3,1,0)(0,0,0)[0] intercept   : AIC=13760.042, Time=0.63 sec\n"
     ]
    },
    {
     "name": "stderr",
     "output_type": "stream",
     "text": [
      "/opt/homebrew/anaconda3/envs/jlab/lib/python3.11/site-packages/sklearn/utils/deprecation.py:132: FutureWarning: 'force_all_finite' was renamed to 'ensure_all_finite' in 1.6 and will be removed in 1.8.\n",
      "  warnings.warn(\n"
     ]
    },
    {
     "name": "stdout",
     "output_type": "stream",
     "text": [
      " ARIMA(4,1,1)(0,0,0)[0] intercept   : AIC=13757.556, Time=2.68 sec\n"
     ]
    },
    {
     "name": "stderr",
     "output_type": "stream",
     "text": [
      "/opt/homebrew/anaconda3/envs/jlab/lib/python3.11/site-packages/sklearn/utils/deprecation.py:132: FutureWarning: 'force_all_finite' was renamed to 'ensure_all_finite' in 1.6 and will be removed in 1.8.\n",
      "  warnings.warn(\n"
     ]
    },
    {
     "name": "stdout",
     "output_type": "stream",
     "text": [
      " ARIMA(3,1,2)(0,0,0)[0] intercept   : AIC=13757.170, Time=2.01 sec\n"
     ]
    },
    {
     "name": "stderr",
     "output_type": "stream",
     "text": [
      "/opt/homebrew/anaconda3/envs/jlab/lib/python3.11/site-packages/sklearn/utils/deprecation.py:132: FutureWarning: 'force_all_finite' was renamed to 'ensure_all_finite' in 1.6 and will be removed in 1.8.\n",
      "  warnings.warn(\n"
     ]
    },
    {
     "name": "stdout",
     "output_type": "stream",
     "text": [
      " ARIMA(2,1,2)(0,0,0)[0] intercept   : AIC=13758.652, Time=1.57 sec\n"
     ]
    },
    {
     "name": "stderr",
     "output_type": "stream",
     "text": [
      "/opt/homebrew/anaconda3/envs/jlab/lib/python3.11/site-packages/sklearn/utils/deprecation.py:132: FutureWarning: 'force_all_finite' was renamed to 'ensure_all_finite' in 1.6 and will be removed in 1.8.\n",
      "  warnings.warn(\n"
     ]
    },
    {
     "name": "stdout",
     "output_type": "stream",
     "text": [
      " ARIMA(4,1,0)(0,0,0)[0] intercept   : AIC=13759.708, Time=0.47 sec\n"
     ]
    },
    {
     "name": "stderr",
     "output_type": "stream",
     "text": [
      "/opt/homebrew/anaconda3/envs/jlab/lib/python3.11/site-packages/sklearn/utils/deprecation.py:132: FutureWarning: 'force_all_finite' was renamed to 'ensure_all_finite' in 1.6 and will be removed in 1.8.\n",
      "  warnings.warn(\n"
     ]
    },
    {
     "name": "stdout",
     "output_type": "stream",
     "text": [
      " ARIMA(4,1,2)(0,0,0)[0] intercept   : AIC=13759.078, Time=5.49 sec\n"
     ]
    },
    {
     "name": "stderr",
     "output_type": "stream",
     "text": [
      "/opt/homebrew/anaconda3/envs/jlab/lib/python3.11/site-packages/sklearn/utils/deprecation.py:132: FutureWarning: 'force_all_finite' was renamed to 'ensure_all_finite' in 1.6 and will be removed in 1.8.\n",
      "  warnings.warn(\n"
     ]
    },
    {
     "name": "stdout",
     "output_type": "stream",
     "text": [
      " ARIMA(3,1,1)(0,0,0)[0]             : AIC=13755.236, Time=0.68 sec\n"
     ]
    },
    {
     "name": "stderr",
     "output_type": "stream",
     "text": [
      "/opt/homebrew/anaconda3/envs/jlab/lib/python3.11/site-packages/sklearn/utils/deprecation.py:132: FutureWarning: 'force_all_finite' was renamed to 'ensure_all_finite' in 1.6 and will be removed in 1.8.\n",
      "  warnings.warn(\n"
     ]
    },
    {
     "name": "stdout",
     "output_type": "stream",
     "text": [
      " ARIMA(2,1,1)(0,0,0)[0]             : AIC=13766.708, Time=0.65 sec\n"
     ]
    },
    {
     "name": "stderr",
     "output_type": "stream",
     "text": [
      "/opt/homebrew/anaconda3/envs/jlab/lib/python3.11/site-packages/sklearn/utils/deprecation.py:132: FutureWarning: 'force_all_finite' was renamed to 'ensure_all_finite' in 1.6 and will be removed in 1.8.\n",
      "  warnings.warn(\n"
     ]
    },
    {
     "name": "stdout",
     "output_type": "stream",
     "text": [
      " ARIMA(3,1,0)(0,0,0)[0]             : AIC=13759.747, Time=0.28 sec\n"
     ]
    },
    {
     "name": "stderr",
     "output_type": "stream",
     "text": [
      "/opt/homebrew/anaconda3/envs/jlab/lib/python3.11/site-packages/sklearn/utils/deprecation.py:132: FutureWarning: 'force_all_finite' was renamed to 'ensure_all_finite' in 1.6 and will be removed in 1.8.\n",
      "  warnings.warn(\n"
     ]
    },
    {
     "name": "stdout",
     "output_type": "stream",
     "text": [
      " ARIMA(4,1,1)(0,0,0)[0]             : AIC=13757.086, Time=0.83 sec\n"
     ]
    },
    {
     "name": "stderr",
     "output_type": "stream",
     "text": [
      "/opt/homebrew/anaconda3/envs/jlab/lib/python3.11/site-packages/sklearn/utils/deprecation.py:132: FutureWarning: 'force_all_finite' was renamed to 'ensure_all_finite' in 1.6 and will be removed in 1.8.\n",
      "  warnings.warn(\n"
     ]
    },
    {
     "name": "stdout",
     "output_type": "stream",
     "text": [
      " ARIMA(3,1,2)(0,0,0)[0]             : AIC=13756.704, Time=0.84 sec\n",
      " ARIMA(2,1,0)(0,0,0)[0]             : AIC=13781.690, Time=0.18 sec\n"
     ]
    },
    {
     "name": "stderr",
     "output_type": "stream",
     "text": [
      "/opt/homebrew/anaconda3/envs/jlab/lib/python3.11/site-packages/sklearn/utils/deprecation.py:132: FutureWarning: 'force_all_finite' was renamed to 'ensure_all_finite' in 1.6 and will be removed in 1.8.\n",
      "  warnings.warn(\n",
      "/opt/homebrew/anaconda3/envs/jlab/lib/python3.11/site-packages/sklearn/utils/deprecation.py:132: FutureWarning: 'force_all_finite' was renamed to 'ensure_all_finite' in 1.6 and will be removed in 1.8.\n",
      "  warnings.warn(\n"
     ]
    },
    {
     "name": "stdout",
     "output_type": "stream",
     "text": [
      " ARIMA(2,1,2)(0,0,0)[0]             : AIC=13758.172, Time=0.80 sec\n"
     ]
    },
    {
     "name": "stderr",
     "output_type": "stream",
     "text": [
      "/opt/homebrew/anaconda3/envs/jlab/lib/python3.11/site-packages/sklearn/utils/deprecation.py:132: FutureWarning: 'force_all_finite' was renamed to 'ensure_all_finite' in 1.6 and will be removed in 1.8.\n",
      "  warnings.warn(\n"
     ]
    },
    {
     "name": "stdout",
     "output_type": "stream",
     "text": [
      " ARIMA(4,1,0)(0,0,0)[0]             : AIC=13759.355, Time=0.36 sec\n"
     ]
    },
    {
     "name": "stderr",
     "output_type": "stream",
     "text": [
      "/opt/homebrew/anaconda3/envs/jlab/lib/python3.11/site-packages/sklearn/utils/deprecation.py:132: FutureWarning: 'force_all_finite' was renamed to 'ensure_all_finite' in 1.6 and will be removed in 1.8.\n",
      "  warnings.warn(\n"
     ]
    },
    {
     "name": "stdout",
     "output_type": "stream",
     "text": [
      " ARIMA(4,1,2)(0,0,0)[0]             : AIC=13758.606, Time=2.00 sec\n",
      "\n",
      "Best model:  ARIMA(3,1,1)(0,0,0)[0]          \n",
      "Total fit time: 26.360 seconds\n",
      "                               SARIMAX Results                                \n",
      "==============================================================================\n",
      "Dep. Variable:                      y   No. Observations:                 7670\n",
      "Model:               SARIMAX(3, 1, 1)   Log Likelihood               -6872.618\n",
      "Date:                Mon, 15 Sep 2025   AIC                          13755.236\n",
      "Time:                        17:20:12   BIC                          13789.960\n",
      "Sample:                             0   HQIC                         13767.147\n",
      "                               - 7670                                         \n",
      "Covariance Type:                  opg                                         \n",
      "==============================================================================\n",
      "                 coef    std err          z      P>|z|      [0.025      0.975]\n",
      "------------------------------------------------------------------------------\n",
      "ar.L1          0.6063      0.034     18.046      0.000       0.540       0.672\n",
      "ar.L2         -0.0476      0.005     -9.899      0.000      -0.057      -0.038\n",
      "ar.L3          0.0497      0.003     19.667      0.000       0.045       0.055\n",
      "ma.L1         -0.5076      0.034    -15.103      0.000      -0.573      -0.442\n",
      "sigma2         0.3515      0.001    312.283      0.000       0.349       0.354\n",
      "===================================================================================\n",
      "Ljung-Box (L1) (Q):                   0.00   Jarque-Bera (JB):           1673060.71\n",
      "Prob(Q):                              1.00   Prob(JB):                         0.00\n",
      "Heteroskedasticity (H):              17.47   Skew:                             1.59\n",
      "Prob(H) (two-sided):                  0.00   Kurtosis:                        75.29\n",
      "===================================================================================\n",
      "\n",
      "Warnings:\n",
      "[1] Covariance matrix calculated using the outer product of gradients (complex-step).\n"
     ]
    }
   ],
   "source": [
    "model_2 = auto_arima(data[\"RUB\"], \n",
    "                   start_p=0, max_p=5,\n",
    "                   start_q=0, max_q=5,\n",
    "                   d=None,              # let auto_arima determine d\n",
    "                   seasonal=False,      # currency is usually non-seasonal\n",
    "                   stepwise=True,       # faster search\n",
    "                   trace=True)          # show search process\n",
    "\n",
    "\n",
    "print(model_2.summary())"
   ]
  },
  {
   "cell_type": "markdown",
   "id": "28d6e7bc",
   "metadata": {},
   "source": [
    "Here, using auto_arima, I fit an ARIMA(3,1,1) model to the RUB time series. First-order differencing (d=1) was required to ensure stationarity, as confirmed by the ADF test. \n",
    "\n",
    "The model includes 3 autoregressive terms (AR) and 1 moving average term (MA), indicating that the ruble’s current value is influenced by up to three past values and the previous forecast error. All coefficients are statistically significant (p < 0.001), and the residuals show no autocorrelation (Ljung-Box p = 1.00), though heteroskedasticity remains (H = 17.47), suggesting time-varying volatility.\n",
    "\n",
    "Compared to previous simpler model like ARIMA(1,1,1), this model provides a better fit based on AIC/BIC (13771.985 and 13792.820 vs. 13755.236 and 13789.960), justifying the use of higher AR terms. However, due to the presence of volatility clustering, future improvements may include GARCH models or ARIMAX with macroeconomic exogenous variables (such as Brent oil prices, inflation).\n"
   ]
  },
  {
   "cell_type": "markdown",
   "id": "d40a428d",
   "metadata": {},
   "source": [
    "### Create a workset and a holdout sets"
   ]
  },
  {
   "cell_type": "code",
   "execution_count": 19,
   "id": "c6b7fc42",
   "metadata": {},
   "outputs": [
    {
     "data": {
      "text/plain": [
       "array([1992, 1993, 1994, 1995, 1996, 1997, 1998, 1999, 2000, 2001, 2002,\n",
       "       2003, 2004, 2005, 2006, 2007, 2008, 2009, 2010, 2011, 2012, 2013,\n",
       "       2014, 2015, 2016, 2017, 2018, 2019, 2020, 2021, 2022, 2023, 2024,\n",
       "       2025])"
      ]
     },
     "execution_count": 19,
     "metadata": {},
     "output_type": "execute_result"
    }
   ],
   "source": [
    "data[\"year\"].unique()"
   ]
  },
  {
   "cell_type": "markdown",
   "id": "3fc8f725",
   "metadata": {},
   "source": [
    "To evaluate the forecasting performance of the ARIMA model on daily RUB exchange rate data and to ensure robustness, I will apply a rolling-origin (expanding window) cross-validation with 4 folds.\n",
    "So, my prep will be looking: \n",
    "\n",
    "Data Setup: \n",
    "\n",
    "* Work set: Includes monthly RUB data from 1992 to 2024\n",
    "* Holdout set: Reserved data for the year 2025 — used for final out-of-sample evaluation\n",
    "\n",
    "\n",
    "CV Design:\n",
    "\n",
    "* A test period of 1 full year (daily data)\n",
    "* A training period of the 13 years (approx. 13 × 365 = ~4,745 days) immediately before the test year\n",
    "\n",
    "\n",
    "After selecting the best model using cross-validation, I will retrain it on the full work set (1992–2024) and evaluate its performance on the 2025 holdout set.\n"
   ]
  },
  {
   "cell_type": "code",
   "execution_count": 20,
   "id": "bfa7f4ca",
   "metadata": {},
   "outputs": [],
   "source": [
    "data_holdout = data.loc[lambda x: x[\"year\"] == 2025, :]\n",
    "data_work = data.loc[lambda x: x[\"year\"] < 2025, :]"
   ]
  },
  {
   "cell_type": "code",
   "execution_count": 27,
   "id": "91a07b26",
   "metadata": {},
   "outputs": [
    {
     "name": "stderr",
     "output_type": "stream",
     "text": [
      "/var/folders/_x/1_vgy5852g7ctfxwwlkb1ks00000gn/T/ipykernel_30654/3631020280.py:4: SettingWithCopyWarning: \n",
      "A value is trying to be set on a copy of a slice from a DataFrame.\n",
      "Try using .loc[row_indexer,col_indexer] = value instead\n",
      "\n",
      "See the caveats in the documentation: https://pandas.pydata.org/pandas-docs/stable/user_guide/indexing.html#returning-a-view-versus-a-copy\n",
      "  data_work[\"test\" + str(fold)] = data_work[\"year\"] == year\n",
      "/var/folders/_x/1_vgy5852g7ctfxwwlkb1ks00000gn/T/ipykernel_30654/3631020280.py:5: SettingWithCopyWarning: \n",
      "A value is trying to be set on a copy of a slice from a DataFrame.\n",
      "Try using .loc[row_indexer,col_indexer] = value instead\n",
      "\n",
      "See the caveats in the documentation: https://pandas.pydata.org/pandas-docs/stable/user_guide/indexing.html#returning-a-view-versus-a-copy\n",
      "  data_work[\"train\" + str(fold)] = (data_work[\"year\"] <= year - 1) & (data_work[\"year\"] >= year - 13)\n"
     ]
    }
   ],
   "source": [
    "# Rolling origin CV\n",
    "for year in range(2021, 2025):  # have data from 1992–2024\n",
    "    fold = year - 2020          # fold1 = 2021, ..., fold4 = 2024\n",
    "    data_work[\"test\" + str(fold)] = data_work[\"year\"] == year\n",
    "    data_work[\"train\" + str(fold)] = (data_work[\"year\"] <= year - 1) & (data_work[\"year\"] >= year - 13)"
   ]
  },
  {
   "cell_type": "markdown",
   "id": "b68d0cd6",
   "metadata": {},
   "source": [
    "#### Visualisation of Training and Test Sets:"
   ]
  },
  {
   "cell_type": "code",
   "execution_count": 40,
   "id": "23909494",
   "metadata": {},
   "outputs": [
    {
     "name": "stderr",
     "output_type": "stream",
     "text": [
      "/var/folders/_x/1_vgy5852g7ctfxwwlkb1ks00000gn/T/ipykernel_30654/1830224871.py:3: SettingWithCopyWarning: \n",
      "A value is trying to be set on a copy of a slice from a DataFrame.\n",
      "Try using .loc[row_indexer,col_indexer] = value instead\n",
      "\n",
      "See the caveats in the documentation: https://pandas.pydata.org/pandas-docs/stable/user_guide/indexing.html#returning-a-view-versus-a-copy\n",
      "  data_work[\"test\" + str(fold)] = data_work[\"year\"] == year\n",
      "/var/folders/_x/1_vgy5852g7ctfxwwlkb1ks00000gn/T/ipykernel_30654/1830224871.py:4: SettingWithCopyWarning: \n",
      "A value is trying to be set on a copy of a slice from a DataFrame.\n",
      "Try using .loc[row_indexer,col_indexer] = value instead\n",
      "\n",
      "See the caveats in the documentation: https://pandas.pydata.org/pandas-docs/stable/user_guide/indexing.html#returning-a-view-versus-a-copy\n",
      "  data_work[\"train\" + str(fold)] = (data_work[\"year\"] <= year - 1) & (data_work[\"year\"] >= year - 13)\n"
     ]
    },
    {
     "data": {
      "image/png": "[encoded data removed]",
      "text/plain": [
       "<Figure size 1200x400 with 1 Axes>"
      ]
     },
     "metadata": {},
     "output_type": "display_data"
    }
   ],
   "source": [
    "for year in range(2021, 2025):  # have data from 1992–2024\n",
    "    fold = year - 2020\n",
    "    data_work[\"test\" + str(fold)] = data_work[\"year\"] == year\n",
    "    data_work[\"train\" + str(fold)] = (data_work[\"year\"] <= year - 1) & (data_work[\"year\"] >= year - 13)\n",
    "\n",
    "\n",
    "fig, ax = plt.subplots(figsize=(12, 4))\n",
    "\n",
    "for fold in range(1, 5):\n",
    "    train_mask = data_work[\"train\" + str(fold)]\n",
    "    test_mask = data_work[\"test\" + str(fold)]\n",
    "\n",
    "    ax.plot(data_work.loc[train_mask, \"date\"], [fold]*train_mask.sum(), \n",
    "            '|', color='tab:blue', label=\"Train\" if fold == 1 else \"\", alpha=0.7)\n",
    "\n",
    "    ax.plot(data_work.loc[test_mask, \"date\"], [fold]*test_mask.sum(), \n",
    "            '|', color='tab:red', label=\"Test\" if fold == 1 else \"\", markeredgewidth=2)\n",
    "\n",
    "ax.set_yticks(range(1, 5))\n",
    "ax.set_yticklabels([f\"Fold {i}\" for i in range(1, 5)])\n",
    "ax.set_xlabel(\"Year\")\n",
    "ax.set_title(\"Rolling Origin Cross-Validation Folds (Train/Test Splits)\")\n",
    "ax.legend(loc='upper left')\n",
    "# Format x-axis to show years\n",
    "ax.xaxis.set_major_locator(plt.MaxNLocator(integer=True))\n",
    "fig.autofmt_xdate()\n",
    "plt.tight_layout()\n",
    "plt.show()"
   ]
  },
  {
   "cell_type": "markdown",
   "id": "ae047a97",
   "metadata": {},
   "source": [
    "#### Auto_ARIMA"
   ]
  },
  {
   "cell_type": "code",
   "execution_count": 45,
   "id": "19aff7cf",
   "metadata": {},
   "outputs": [
    {
     "name": "stderr",
     "output_type": "stream",
     "text": [
      "/var/folders/_x/1_vgy5852g7ctfxwwlkb1ks00000gn/T/ipykernel_30654/525131746.py:2: SettingWithCopyWarning: \n",
      "A value is trying to be set on a copy of a slice from a DataFrame.\n",
      "Try using .loc[row_indexer,col_indexer] = value instead\n",
      "\n",
      "See the caveats in the documentation: https://pandas.pydata.org/pandas-docs/stable/user_guide/indexing.html#returning-a-view-versus-a-copy\n",
      "  data_work['date'] = pd.to_datetime(data_work['date'])  # if not already datetime\n",
      "/opt/homebrew/anaconda3/envs/jlab/lib/python3.11/site-packages/sklearn/utils/deprecation.py:132: FutureWarning: 'force_all_finite' was renamed to 'ensure_all_finite' in 1.6 and will be removed in 1.8.\n",
      "  warnings.warn(\n",
      "/opt/homebrew/anaconda3/envs/jlab/lib/python3.11/site-packages/sklearn/utils/deprecation.py:132: FutureWarning: 'force_all_finite' was renamed to 'ensure_all_finite' in 1.6 and will be removed in 1.8.\n",
      "  warnings.warn(\n",
      "/opt/homebrew/anaconda3/envs/jlab/lib/python3.11/site-packages/sklearn/utils/deprecation.py:132: FutureWarning: 'force_all_finite' was renamed to 'ensure_all_finite' in 1.6 and will be removed in 1.8.\n",
      "  warnings.warn(\n",
      "/opt/homebrew/anaconda3/envs/jlab/lib/python3.11/site-packages/sklearn/utils/deprecation.py:132: FutureWarning: 'force_all_finite' was renamed to 'ensure_all_finite' in 1.6 and will be removed in 1.8.\n",
      "  warnings.warn(\n",
      "/opt/homebrew/anaconda3/envs/jlab/lib/python3.11/site-packages/sklearn/utils/deprecation.py:132: FutureWarning: 'force_all_finite' was renamed to 'ensure_all_finite' in 1.6 and will be removed in 1.8.\n",
      "  warnings.warn(\n",
      "/opt/homebrew/anaconda3/envs/jlab/lib/python3.11/site-packages/sklearn/utils/deprecation.py:132: FutureWarning: 'force_all_finite' was renamed to 'ensure_all_finite' in 1.6 and will be removed in 1.8.\n",
      "  warnings.warn(\n",
      "/opt/homebrew/anaconda3/envs/jlab/lib/python3.11/site-packages/sklearn/utils/deprecation.py:132: FutureWarning: 'force_all_finite' was renamed to 'ensure_all_finite' in 1.6 and will be removed in 1.8.\n",
      "  warnings.warn(\n",
      "/opt/homebrew/anaconda3/envs/jlab/lib/python3.11/site-packages/sklearn/utils/deprecation.py:132: FutureWarning: 'force_all_finite' was renamed to 'ensure_all_finite' in 1.6 and will be removed in 1.8.\n",
      "  warnings.warn(\n",
      "/opt/homebrew/anaconda3/envs/jlab/lib/python3.11/site-packages/sklearn/utils/deprecation.py:132: FutureWarning: 'force_all_finite' was renamed to 'ensure_all_finite' in 1.6 and will be removed in 1.8.\n",
      "  warnings.warn(\n"
     ]
    },
    {
     "name": "stdout",
     "output_type": "stream",
     "text": [
      "Performing stepwise search to minimize aic\n",
      " ARIMA(0,1,0)(0,0,0)[0] intercept   : AIC=13427.443, Time=0.19 sec\n"
     ]
    },
    {
     "name": "stderr",
     "output_type": "stream",
     "text": [
      "/opt/homebrew/anaconda3/envs/jlab/lib/python3.11/site-packages/sklearn/utils/deprecation.py:132: FutureWarning: 'force_all_finite' was renamed to 'ensure_all_finite' in 1.6 and will be removed in 1.8.\n",
      "  warnings.warn(\n"
     ]
    },
    {
     "name": "stdout",
     "output_type": "stream",
     "text": [
      " ARIMA(1,1,0)(0,0,0)[0] intercept   : AIC=13356.033, Time=0.36 sec\n"
     ]
    },
    {
     "name": "stderr",
     "output_type": "stream",
     "text": [
      "/opt/homebrew/anaconda3/envs/jlab/lib/python3.11/site-packages/sklearn/utils/deprecation.py:132: FutureWarning: 'force_all_finite' was renamed to 'ensure_all_finite' in 1.6 and will be removed in 1.8.\n",
      "  warnings.warn(\n"
     ]
    },
    {
     "name": "stdout",
     "output_type": "stream",
     "text": [
      " ARIMA(0,1,1)(0,0,0)[0] intercept   : AIC=13358.027, Time=0.33 sec\n",
      " ARIMA(0,1,0)(0,0,0)[0]             : AIC=13429.364, Time=0.05 sec\n"
     ]
    },
    {
     "name": "stderr",
     "output_type": "stream",
     "text": [
      "/opt/homebrew/anaconda3/envs/jlab/lib/python3.11/site-packages/sklearn/utils/deprecation.py:132: FutureWarning: 'force_all_finite' was renamed to 'ensure_all_finite' in 1.6 and will be removed in 1.8.\n",
      "  warnings.warn(\n",
      "/opt/homebrew/anaconda3/envs/jlab/lib/python3.11/site-packages/sklearn/utils/deprecation.py:132: FutureWarning: 'force_all_finite' was renamed to 'ensure_all_finite' in 1.6 and will be removed in 1.8.\n",
      "  warnings.warn(\n"
     ]
    },
    {
     "name": "stdout",
     "output_type": "stream",
     "text": [
      " ARIMA(2,1,0)(0,0,0)[0] intercept   : AIC=13356.403, Time=0.37 sec\n"
     ]
    },
    {
     "name": "stderr",
     "output_type": "stream",
     "text": [
      "/opt/homebrew/anaconda3/envs/jlab/lib/python3.11/site-packages/sklearn/utils/deprecation.py:132: FutureWarning: 'force_all_finite' was renamed to 'ensure_all_finite' in 1.6 and will be removed in 1.8.\n",
      "  warnings.warn(\n"
     ]
    },
    {
     "name": "stdout",
     "output_type": "stream",
     "text": [
      " ARIMA(1,1,1)(0,0,0)[0] intercept   : AIC=13344.285, Time=0.69 sec\n"
     ]
    },
    {
     "name": "stderr",
     "output_type": "stream",
     "text": [
      "/opt/homebrew/anaconda3/envs/jlab/lib/python3.11/site-packages/sklearn/utils/deprecation.py:132: FutureWarning: 'force_all_finite' was renamed to 'ensure_all_finite' in 1.6 and will be removed in 1.8.\n",
      "  warnings.warn(\n"
     ]
    },
    {
     "name": "stdout",
     "output_type": "stream",
     "text": [
      " ARIMA(2,1,1)(0,0,0)[0] intercept   : AIC=13341.402, Time=1.62 sec\n"
     ]
    },
    {
     "name": "stderr",
     "output_type": "stream",
     "text": [
      "/opt/homebrew/anaconda3/envs/jlab/lib/python3.11/site-packages/sklearn/utils/deprecation.py:132: FutureWarning: 'force_all_finite' was renamed to 'ensure_all_finite' in 1.6 and will be removed in 1.8.\n",
      "  warnings.warn(\n"
     ]
    },
    {
     "name": "stdout",
     "output_type": "stream",
     "text": [
      " ARIMA(3,1,1)(0,0,0)[0] intercept   : AIC=13332.336, Time=1.12 sec\n"
     ]
    },
    {
     "name": "stderr",
     "output_type": "stream",
     "text": [
      "/opt/homebrew/anaconda3/envs/jlab/lib/python3.11/site-packages/sklearn/utils/deprecation.py:132: FutureWarning: 'force_all_finite' was renamed to 'ensure_all_finite' in 1.6 and will be removed in 1.8.\n",
      "  warnings.warn(\n"
     ]
    },
    {
     "name": "stdout",
     "output_type": "stream",
     "text": [
      " ARIMA(3,1,0)(0,0,0)[0] intercept   : AIC=13333.160, Time=0.36 sec\n"
     ]
    },
    {
     "name": "stderr",
     "output_type": "stream",
     "text": [
      "/opt/homebrew/anaconda3/envs/jlab/lib/python3.11/site-packages/sklearn/utils/deprecation.py:132: FutureWarning: 'force_all_finite' was renamed to 'ensure_all_finite' in 1.6 and will be removed in 1.8.\n",
      "  warnings.warn(\n"
     ]
    },
    {
     "name": "stdout",
     "output_type": "stream",
     "text": [
      " ARIMA(4,1,1)(0,0,0)[0] intercept   : AIC=13333.468, Time=2.09 sec\n"
     ]
    },
    {
     "name": "stderr",
     "output_type": "stream",
     "text": [
      "/opt/homebrew/anaconda3/envs/jlab/lib/python3.11/site-packages/sklearn/utils/deprecation.py:132: FutureWarning: 'force_all_finite' was renamed to 'ensure_all_finite' in 1.6 and will be removed in 1.8.\n",
      "  warnings.warn(\n"
     ]
    },
    {
     "name": "stdout",
     "output_type": "stream",
     "text": [
      " ARIMA(3,1,2)(0,0,0)[0] intercept   : AIC=13333.000, Time=1.94 sec\n"
     ]
    },
    {
     "name": "stderr",
     "output_type": "stream",
     "text": [
      "/opt/homebrew/anaconda3/envs/jlab/lib/python3.11/site-packages/sklearn/utils/deprecation.py:132: FutureWarning: 'force_all_finite' was renamed to 'ensure_all_finite' in 1.6 and will be removed in 1.8.\n",
      "  warnings.warn(\n"
     ]
    },
    {
     "name": "stdout",
     "output_type": "stream",
     "text": [
      " ARIMA(2,1,2)(0,0,0)[0] intercept   : AIC=13334.519, Time=1.60 sec\n"
     ]
    },
    {
     "name": "stderr",
     "output_type": "stream",
     "text": [
      "/opt/homebrew/anaconda3/envs/jlab/lib/python3.11/site-packages/sklearn/utils/deprecation.py:132: FutureWarning: 'force_all_finite' was renamed to 'ensure_all_finite' in 1.6 and will be removed in 1.8.\n",
      "  warnings.warn(\n"
     ]
    },
    {
     "name": "stdout",
     "output_type": "stream",
     "text": [
      " ARIMA(4,1,0)(0,0,0)[0] intercept   : AIC=13334.200, Time=0.47 sec\n"
     ]
    },
    {
     "name": "stderr",
     "output_type": "stream",
     "text": [
      "/opt/homebrew/anaconda3/envs/jlab/lib/python3.11/site-packages/sklearn/utils/deprecation.py:132: FutureWarning: 'force_all_finite' was renamed to 'ensure_all_finite' in 1.6 and will be removed in 1.8.\n",
      "  warnings.warn(\n"
     ]
    },
    {
     "name": "stdout",
     "output_type": "stream",
     "text": [
      " ARIMA(4,1,2)(0,0,0)[0] intercept   : AIC=13334.945, Time=2.73 sec\n"
     ]
    },
    {
     "name": "stderr",
     "output_type": "stream",
     "text": [
      "/opt/homebrew/anaconda3/envs/jlab/lib/python3.11/site-packages/sklearn/utils/deprecation.py:132: FutureWarning: 'force_all_finite' was renamed to 'ensure_all_finite' in 1.6 and will be removed in 1.8.\n",
      "  warnings.warn(\n"
     ]
    },
    {
     "name": "stdout",
     "output_type": "stream",
     "text": [
      " ARIMA(3,1,1)(0,0,0)[0]             : AIC=13332.916, Time=0.91 sec\n",
      "\n",
      "Best model:  ARIMA(3,1,1)(0,0,0)[0] intercept\n",
      "Total fit time: 14.871 seconds\n",
      "Best ARIMA order: (3, 1, 1)\n"
     ]
    },
    {
     "name": "stderr",
     "output_type": "stream",
     "text": [
      "/opt/homebrew/anaconda3/envs/jlab/lib/python3.11/site-packages/statsmodels/tsa/base/tsa_model.py:473: ValueWarning: A date index has been provided, but it has no associated frequency information and so will be ignored when e.g. forecasting.\n",
      "  self._init_dates(dates, freq)\n",
      "/opt/homebrew/anaconda3/envs/jlab/lib/python3.11/site-packages/statsmodels/tsa/base/tsa_model.py:473: ValueWarning: A date index has been provided, but it has no associated frequency information and so will be ignored when e.g. forecasting.\n",
      "  self._init_dates(dates, freq)\n",
      "/opt/homebrew/anaconda3/envs/jlab/lib/python3.11/site-packages/statsmodels/tsa/base/tsa_model.py:473: ValueWarning: A date index has been provided, but it has no associated frequency information and so will be ignored when e.g. forecasting.\n",
      "  self._init_dates(dates, freq)\n",
      "/opt/homebrew/anaconda3/envs/jlab/lib/python3.11/site-packages/statsmodels/tsa/statespace/sarimax.py:966: UserWarning: Non-stationary starting autoregressive parameters found. Using zeros as starting parameters.\n",
      "  warn('Non-stationary starting autoregressive parameters'\n",
      "/opt/homebrew/anaconda3/envs/jlab/lib/python3.11/site-packages/statsmodels/tsa/statespace/sarimax.py:978: UserWarning: Non-invertible starting MA parameters found. Using zeros as starting parameters.\n",
      "  warn('Non-invertible starting MA parameters found.'\n",
      "/opt/homebrew/anaconda3/envs/jlab/lib/python3.11/site-packages/statsmodels/tsa/base/tsa_model.py:837: ValueWarning: No supported index is available. Prediction results will be given with an integer index beginning at `start`.\n",
      "  return get_prediction_index(\n",
      "/opt/homebrew/anaconda3/envs/jlab/lib/python3.11/site-packages/statsmodels/tsa/base/tsa_model.py:837: FutureWarning: No supported index is available. In the next version, calling this method in a model without a supported index will result in an exception.\n",
      "  return get_prediction_index(\n",
      "/opt/homebrew/anaconda3/envs/jlab/lib/python3.11/site-packages/statsmodels/tsa/base/tsa_model.py:473: ValueWarning: A date index has been provided, but it has no associated frequency information and so will be ignored when e.g. forecasting.\n",
      "  self._init_dates(dates, freq)\n",
      "/opt/homebrew/anaconda3/envs/jlab/lib/python3.11/site-packages/statsmodels/tsa/base/tsa_model.py:473: ValueWarning: A date index has been provided, but it has no associated frequency information and so will be ignored when e.g. forecasting.\n",
      "  self._init_dates(dates, freq)\n",
      "/opt/homebrew/anaconda3/envs/jlab/lib/python3.11/site-packages/statsmodels/tsa/base/tsa_model.py:473: ValueWarning: A date index has been provided, but it has no associated frequency information and so will be ignored when e.g. forecasting.\n",
      "  self._init_dates(dates, freq)\n",
      "/opt/homebrew/anaconda3/envs/jlab/lib/python3.11/site-packages/statsmodels/tsa/base/tsa_model.py:837: ValueWarning: No supported index is available. Prediction results will be given with an integer index beginning at `start`.\n",
      "  return get_prediction_index(\n",
      "/opt/homebrew/anaconda3/envs/jlab/lib/python3.11/site-packages/statsmodels/tsa/base/tsa_model.py:837: FutureWarning: No supported index is available. In the next version, calling this method in a model without a supported index will result in an exception.\n",
      "  return get_prediction_index(\n",
      "/opt/homebrew/anaconda3/envs/jlab/lib/python3.11/site-packages/statsmodels/tsa/base/tsa_model.py:473: ValueWarning: A date index has been provided, but it has no associated frequency information and so will be ignored when e.g. forecasting.\n",
      "  self._init_dates(dates, freq)\n",
      "/opt/homebrew/anaconda3/envs/jlab/lib/python3.11/site-packages/statsmodels/tsa/base/tsa_model.py:473: ValueWarning: A date index has been provided, but it has no associated frequency information and so will be ignored when e.g. forecasting.\n",
      "  self._init_dates(dates, freq)\n",
      "/opt/homebrew/anaconda3/envs/jlab/lib/python3.11/site-packages/statsmodels/tsa/base/tsa_model.py:473: ValueWarning: A date index has been provided, but it has no associated frequency information and so will be ignored when e.g. forecasting.\n",
      "  self._init_dates(dates, freq)\n",
      "/opt/homebrew/anaconda3/envs/jlab/lib/python3.11/site-packages/statsmodels/tsa/base/tsa_model.py:837: ValueWarning: No supported index is available. Prediction results will be given with an integer index beginning at `start`.\n",
      "  return get_prediction_index(\n",
      "/opt/homebrew/anaconda3/envs/jlab/lib/python3.11/site-packages/statsmodels/tsa/base/tsa_model.py:837: FutureWarning: No supported index is available. In the next version, calling this method in a model without a supported index will result in an exception.\n",
      "  return get_prediction_index(\n",
      "/opt/homebrew/anaconda3/envs/jlab/lib/python3.11/site-packages/statsmodels/tsa/base/tsa_model.py:473: ValueWarning: A date index has been provided, but it has no associated frequency information and so will be ignored when e.g. forecasting.\n",
      "  self._init_dates(dates, freq)\n",
      "/opt/homebrew/anaconda3/envs/jlab/lib/python3.11/site-packages/statsmodels/tsa/base/tsa_model.py:473: ValueWarning: A date index has been provided, but it has no associated frequency information and so will be ignored when e.g. forecasting.\n",
      "  self._init_dates(dates, freq)\n",
      "/opt/homebrew/anaconda3/envs/jlab/lib/python3.11/site-packages/statsmodels/tsa/base/tsa_model.py:473: ValueWarning: A date index has been provided, but it has no associated frequency information and so will be ignored when e.g. forecasting.\n",
      "  self._init_dates(dates, freq)\n"
     ]
    },
    {
     "name": "stdout",
     "output_type": "stream",
     "text": [
      "CV RMSE (Auto ARIMA): 12.043861120582255\n",
      "     lb_stat  lb_pvalue\n",
      "10  3.358403   0.971689\n"
     ]
    },
    {
     "name": "stderr",
     "output_type": "stream",
     "text": [
      "/opt/homebrew/anaconda3/envs/jlab/lib/python3.11/site-packages/statsmodels/tsa/base/tsa_model.py:837: ValueWarning: No supported index is available. Prediction results will be given with an integer index beginning at `start`.\n",
      "  return get_prediction_index(\n",
      "/opt/homebrew/anaconda3/envs/jlab/lib/python3.11/site-packages/statsmodels/tsa/base/tsa_model.py:837: FutureWarning: No supported index is available. In the next version, calling this method in a model without a supported index will result in an exception.\n",
      "  return get_prediction_index(\n"
     ]
    }
   ],
   "source": [
    "# 0. Convert date column to datetime index\n",
    "data_work['date'] = pd.to_datetime(data_work['date'])\n",
    "data_work.set_index('date', inplace=True)\n",
    "\n",
    "# 1. Auto_arima\n",
    "model_3 = auto_arima(data_work[\"RUB\"], \n",
    "                     start_p=0, max_p=5,\n",
    "                     start_q=0, max_q=5,\n",
    "                     d=None,              # let auto_arima determine d\n",
    "                     seasonal=False,      # currency is usually non-seasonal\n",
    "                     stepwise=True,       # faster search\n",
    "                     trace=True)          # show search process\n",
    "\n",
    "# 2. Extract best order (p, d, q)\n",
    "best_order = model_3.order\n",
    "print(\"Best ARIMA order:\", best_order)\n",
    "\n",
    "# 3. Cross-validation with 4 folds\n",
    "mse_2 = []\n",
    "\n",
    "for i in range(1, 5):\n",
    "    # Create masks\n",
    "    train_mask = data_work[\"train\" + str(i)] == True\n",
    "    test_mask  = data_work[\"test\"  + str(i)] == True\n",
    "\n",
    "    # Get y_train and y_test\n",
    "    y_train = data_work.loc[train_mask, \"RUB\"].sort_index()\n",
    "    y_test  = data_work.loc[test_mask,  \"RUB\"].sort_index()\n",
    "\n",
    "    # Fit model on training data\n",
    "    model = ARIMA(endog=y_train, order=best_order).fit()\n",
    "\n",
    "    # Forecast exactly len(test) steps\n",
    "    phat = model.forecast(steps=len(y_test))\n",
    "\n",
    "    # Compute squared error\n",
    "    errsq = (y_test.values - phat.values) ** 2\n",
    "    mse_2.append(np.mean(errsq))\n",
    "\n",
    "# 4. Final RMSE\n",
    "rmse_cv_m2 = float(np.sqrt(np.mean(mse_2)))\n",
    "print(\"CV RMSE (Auto ARIMA):\", rmse_cv_m2)\n",
    "print(acorr_ljungbox(model.resid, lags=[10], return_df=True))"
   ]
  },
  {
   "cell_type": "code",
   "execution_count": 48,
   "id": "179f23ba",
   "metadata": {},
   "outputs": [
    {
     "name": "stdout",
     "output_type": "stream",
     "text": [
      "Best ARIMA order: (3, 1, 1)\n",
      "CV RMSE (Auto ARIMA): 12.043861120582255\n",
      "     lb_stat  lb_pvalue\n",
      "10  3.358403   0.971689\n"
     ]
    }
   ],
   "source": [
    "best_order = model_3.order\n",
    "rmse_cv_m2 = float(np.sqrt(np.mean(mse_2)))\n",
    "print(\"Best ARIMA order:\", best_order)\n",
    "print(\"CV RMSE (Auto ARIMA):\", rmse_cv_m2)\n",
    "print(acorr_ljungbox(model.resid, lags=[10], return_df=True))"
   ]
  },
  {
   "cell_type": "markdown",
   "id": "207e25e4",
   "metadata": {},
   "source": [
    "After applying Auto ARIMA to model daily RUB exchange rate data, the best-fitting model identified was ARIMA(3,1,1). This means the series required one level of differencing to achieve stationarity, and both autoregressive and moving average components of order 3 and 1, respectively, contributed meaningfully to capturing the underlying dynamics.\n",
    "\n",
    "To ensure robustness, I implemented a **rolling-origin cross-validation** with four folds (2021–2024), gradually expanding the training window and testing performance year by year. The cross-validated **RMSE was approximately 12.04**, indicating a reasonably good predictive performance for such a volatile macroeconomic variable.\n",
    "\n",
    "Additionally, the **Ljung–Box test** at lag 10 produced a high p-value (~0.97), suggesting that the residuals of the fitted model do not exhibit significant autocorrelation — a desirable property that supports the validity of the model.\n",
    "\n",
    "While ARIMA(3,1,1) provides a solid univariate forecasting baseline, future enhancements could include:\n",
    "\n",
    "- **ARIMAX**, to incorporate exogenous drivers like oil prices, inflation, or interest rates.\n",
    "- **GARCH models**, to capture volatility clustering common in financial time series.\n",
    "- **VAR models**, if expanding to multivariate analysis.\n",
    "\n",
    "Overall, this ARIMA model establishes a strong foundation for modeling RUB dynamics and sets the stage for deeper, more nuanced time series analysis."
   ]
  }
 ],
 "metadata": {
  "kernelspec": {
   "display_name": "Python 3 (ipykernel)",
   "language": "python",
   "name": "python3"
  },
  "language_info": {
   "codemirror_mode": {
    "name": "ipython",
    "version": 3
   },
   "file_extension": ".py",
   "mimetype": "text/x-python",
   "name": "python",
   "nbconvert_exporter": "python",
   "pygments_lexer": "ipython3",
   "version": "3.11.5"
  }
 },
 "nbformat": 4,
 "nbformat_minor": 5
}
